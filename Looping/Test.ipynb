{
 "cells": [
  {
   "cell_type": "code",
   "execution_count": 3,
   "metadata": {},
   "outputs": [
    {
     "name": "stdout",
     "output_type": "stream",
     "text": [
      "Enter the length of the list: 6\n",
      "Enter number 1: 165\n",
      "165 Is not divisible by 2\n",
      "Enter number 2: 46\n",
      "46 Is divisible by 2\n",
      "Enter number 3: 46\n",
      "46 Is divisible by 2\n",
      "Enter number 4: 46\n",
      "46 Is divisible by 2\n",
      "Enter number 5: 46\n",
      "46 Is divisible by 2\n",
      "Enter number 6: 46\n",
      "46 Is divisible by 2\n",
      " \n",
      " \n",
      "Your list has  6  Numbers.\n",
      "You have  1  odd numbers, and their average is:  165\n",
      "You have  5  even numbers, and their average is:  46\n"
     ]
    }
   ],
   "source": [
    "'''\n",
    "This is setting the variables and taking first input\n",
    "'''\n",
    "odd = 0\n",
    "even = 0\n",
    "sum_odd = 0\n",
    "sum_even = 0\n",
    "length = int(input(\"Enter the length of the list: \"))\n",
    "\n",
    "# this is where is where the numbers are taken and determined to be odd or even\n",
    "for i in range(1, length+1):\n",
    "    x = \"Enter number\", i , \":\"\n",
    "    number = int(input(\"Enter number \" + str(i) + \": \"))\n",
    "    if number%2 == 0:\n",
    "        even += 1\n",
    "        sum_even += number\n",
    "        print(number, \"Is divisible by 2\")\n",
    "    if number%2 != 0:\n",
    "        odd += 1\n",
    "        sum_odd += number\n",
    "        print(number, \"Is not divisible by 2\")\n",
    "\n",
    "        \n",
    "print(\" \")\n",
    "print(\" \")\n",
    "#this is final printing\n",
    "print(\"Your list has \", length, \" Numbers.\")\n",
    "if odd == 0:\n",
    "    print(\"You do not have any odd numbers\")\n",
    "else:\n",
    "    print(\"You have \", odd,\" odd numbers, and their average is: \", int(sum_odd/odd))\n",
    "if even == 0:\n",
    "    print(\"You do not have any even numbers\")\n",
    "else:\n",
    "    print(\"You have \", even,\" even numbers, and their average is: \", int(sum_even/even))\n",
    "\n",
    "        \n",
    "\n"
   ]
  },
  {
   "cell_type": "code",
   "execution_count": null,
   "metadata": {},
   "outputs": [],
   "source": []
  },
  {
   "cell_type": "code",
   "execution_count": null,
   "metadata": {},
   "outputs": [],
   "source": []
  }
 ],
 "metadata": {
  "kernelspec": {
   "display_name": "Python 3",
   "language": "python",
   "name": "python3"
  },
  "language_info": {
   "codemirror_mode": {
    "name": "ipython",
    "version": 3
   },
   "file_extension": ".py",
   "mimetype": "text/x-python",
   "name": "python",
   "nbconvert_exporter": "python",
   "pygments_lexer": "ipython3",
   "version": "3.8.5"
  }
 },
 "nbformat": 4,
 "nbformat_minor": 4
}
