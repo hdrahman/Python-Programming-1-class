{
 "cells": [
  {
   "cell_type": "code",
   "execution_count": null,
   "metadata": {},
   "outputs": [],
   "source": [
    "#Rolling Dice\n",
    "\n",
    "'''\n",
    "Write a program that will print out all combinations that can be made when 2 dice are rolled.\n",
    "'''\n",
    "\n",
    "for i in range(7):\n",
    "    for j in range(7):\n",
    "        print(str(i)+\",\"+str(j))"
   ]
  },
  {
   "cell_type": "code",
   "execution_count": null,
   "metadata": {},
   "outputs": [],
   "source": [
    "#Categories\n",
    "\n",
    "'''\n",
    "Write a program that asks the user for three categories. For each category, ask the user for three things in that category. \n",
    "You should print something for each category that states the category and the three things in that category.\n",
    "'''\n",
    "\n",
    "\n",
    "for i in range(3):\n",
    "    category = input(\"Enter a category: \")\n",
    "    thing_list = category + \": \"\n",
    "    \n",
    "    for j in range(3):\n",
    "        thing = input(\"Enter something in that category: \")\n",
    "        thing_list = thing_list + thing + \" \"\n",
    "    \n",
    "    print(thing_list)\n"
   ]
  },
  {
   "cell_type": "code",
   "execution_count": null,
   "metadata": {},
   "outputs": [],
   "source": [
    "#1-Write a program that asks the user for 5 temperatures for 3 weeks\n",
    "\n",
    "\n",
    "num_weeks = 3\n",
    "temp = 5\n",
    "\n",
    "# For each week \n",
    "for i in range(num_weeks):\n",
    "    week = input(\"Enter week nb: \")\n",
    "    sum = 0\n",
    "    \n",
    "    # Add up the temp\n",
    "    for j in range(temp):\n",
    "        temp_input = int(input(\"Enter a temp: \"))\n",
    "        sum = sum + temp_input\n",
    "        \n",
    "    # Calculate and print average temp\n",
    "    average = sum / temp\n",
    "    print(\"Average for \" + week + \": \" + str(average))"
   ]
  },
  {
   "cell_type": "code",
   "execution_count": null,
   "metadata": {},
   "outputs": [],
   "source": [
    "'''\n",
    "2-Print the given pattern\n",
    "*\n",
    "**\n",
    "***\n",
    "****\n",
    "'''\n",
    "\n",
    "for i in range(4):\n",
    "    for j in range(i+1):\n",
    "        print(\"*\",end=\"\")\n",
    "    print()"
   ]
  },
  {
   "cell_type": "code",
   "execution_count": null,
   "metadata": {},
   "outputs": [],
   "source": [
    "'''\n",
    "- Print odd number patterns  1,3,5,7 using stars\n",
    "*\n",
    "***\n",
    "*****\n",
    "*******\n",
    "'''\n",
    "\n",
    "k=1\n",
    "for i in range(5):\n",
    "    for j in range(k):\n",
    "        print(\"*\", end=\"\")\n",
    "    k=k+2\n",
    "    print()"
   ]
  }
 ],
 "metadata": {
  "kernelspec": {
   "display_name": "Python 3",
   "language": "python",
   "name": "python3"
  },
  "language_info": {
   "codemirror_mode": {
    "name": "ipython",
    "version": 3
   },
   "file_extension": ".py",
   "mimetype": "text/x-python",
   "name": "python",
   "nbconvert_exporter": "python",
   "pygments_lexer": "ipython3",
   "version": "3.8.5"
  }
 },
 "nbformat": 4,
 "nbformat_minor": 4
}
