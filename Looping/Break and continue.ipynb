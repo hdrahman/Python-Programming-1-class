{
 "cells": [
  {
   "cell_type": "code",
   "execution_count": null,
   "metadata": {},
   "outputs": [],
   "source": [
    "'''\n",
    "Write a program that makes the user guess a particular number between 1 and 100. Save the number to be guessed in a variable \n",
    "called magic_number.\n",
    "\n",
    "If the user guesses a number higher than the secret number, you should say Too high!. Similarly, you should say Too low! if \n",
    "they guess a number lower than the secret number. Once they guess the number, say Correct!\n",
    "'''\n",
    "\n",
    "magic_number = 3\n",
    "\n",
    "# Your code here...\n",
    "\n",
    "while True:\n",
    "    guess = int(input(\"Guess a number between 1 and 100: \"))\n",
    "    if guess == magic_number:\n",
    "        print(\"Correct!\")\n",
    "        break\n",
    "    elif guess > magic_number:\n",
    "        print(\"Too high!\")\n",
    "        continue\n",
    "    elif guess < magic_number:\n",
    "        print(\"Too low!\")\n",
    "        continue"
   ]
  }
 ],
 "metadata": {
  "kernelspec": {
   "display_name": "Python 3",
   "language": "python",
   "name": "python3"
  },
  "language_info": {
   "codemirror_mode": {
    "name": "ipython",
    "version": 3
   },
   "file_extension": ".py",
   "mimetype": "text/x-python",
   "name": "python",
   "nbconvert_exporter": "python",
   "pygments_lexer": "ipython3",
   "version": "3.8.5"
  }
 },
 "nbformat": 4,
 "nbformat_minor": 4
}
