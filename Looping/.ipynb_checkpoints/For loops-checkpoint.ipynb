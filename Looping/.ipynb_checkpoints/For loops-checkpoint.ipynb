{
 "cells": [
  {
   "cell_type": "code",
   "execution_count": null,
   "metadata": {},
   "outputs": [],
   "source": [
    "'''\n",
    "Write a program that prints out numbers from 10 to 100 by tens\n",
    "'''\n",
    "\n",
    "number = 10\n",
    "while number < 101:\n",
    "    print(number)\n",
    "    number += 10"
   ]
  },
  {
   "cell_type": "code",
   "execution_count": null,
   "metadata": {},
   "outputs": [],
   "source": [
    "'''\n",
    "Write a program that asks the user how many names they have. \n",
    "(If they have a first name, two middle names, and a last name, for example, they would type 4.) Then, using a for loop, ask the \n",
    "user for each of their names. Finally, print their full name.\n",
    "'''\n",
    "\n",
    "number_of_names = int(input(\"Enter Number of Names: \"))\n",
    "full_nume = \"\"\n",
    "for i in range(number_of_names):\n",
    "    name = input(\"Enter name: \")\n",
    "    full_nume += name + \" \"\n",
    "print(full_nume)"
   ]
  }
 ],
 "metadata": {
  "kernelspec": {
   "display_name": "Python 3",
   "language": "python",
   "name": "python3"
  },
  "language_info": {
   "codemirror_mode": {
    "name": "ipython",
    "version": 3
   },
   "file_extension": ".py",
   "mimetype": "text/x-python",
   "name": "python",
   "nbconvert_exporter": "python",
   "pygments_lexer": "ipython3",
   "version": "3.8.5"
  }
 },
 "nbformat": 4,
 "nbformat_minor": 4
}
