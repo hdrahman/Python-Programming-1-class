{
 "cells": [
  {
   "cell_type": "code",
   "execution_count": null,
   "metadata": {},
   "outputs": [],
   "source": [
    "'''\n",
    "Write a function that takes two arguments, both integers, and prints the product.\n",
    "\n",
    "In the main part of your program (the part that isn’t inside a function), call your function to test it out.\n",
    "'''\n",
    "\n",
    "def practice(x,y):\n",
    "    print(x+y)\n",
    "practice(15,15)\n",
    "    "
   ]
  },
  {
   "cell_type": "code",
   "execution_count": 7,
   "metadata": {},
   "outputs": [
    {
     "name": "stdout",
     "output_type": "stream",
     "text": [
      "hi\n",
      "hi\n"
     ]
    }
   ],
   "source": [
    " #Print Multiple Times\n",
    "\n",
    "'''\n",
    "Write a function that takes two arguments - a string and an integer - and prints the string multiple times. \n",
    "The integer specifies how many times the string is printed.\n",
    "'''\n",
    "\n",
    "def printer(string, integer):\n",
    "    for i in range(integer):\n",
    "        print(string)\n",
    "\n",
    "printer(\"hi\", 2)"
   ]
  },
  {
   "cell_type": "code",
   "execution_count": null,
   "metadata": {},
   "outputs": [],
   "source": [
    "#Area of a Square with Default Parameters\n",
    "'''\n",
    "Write a program that will calculate and print the area of a square where its side length is given by the user.\n",
    "\n",
    "To compute the area, write a function named calculate_area that takes a single parameter, side_length. The parameter \n",
    "should be given a default value of 10.\n",
    "\n",
    "If the user enters a length value of 0 or less, call calculate_area and use the default value. Otherwise, use the length \n",
    "value given as the parameter value.\n",
    "'''\n",
    "def calculate_area(side_length = 10):\n",
    "    print(\"The area of a square with sides of length\",side_length,\"is\",side_length**2)\n",
    "\n",
    "length = input(\"Enter side length:\")\n",
    "if length <= 0:\n",
    "    calculate_area()\n",
    "calculate_area(length)\n"
   ]
  },
  {
   "cell_type": "code",
   "execution_count": null,
   "metadata": {},
   "outputs": [],
   "source": []
  }
 ],
 "metadata": {
  "kernelspec": {
   "display_name": "Python 3",
   "language": "python",
   "name": "python3"
  },
  "language_info": {
   "codemirror_mode": {
    "name": "ipython",
    "version": 3
   },
   "file_extension": ".py",
   "mimetype": "text/x-python",
   "name": "python",
   "nbconvert_exporter": "python",
   "pygments_lexer": "ipython3",
   "version": "3.8.5"
  }
 },
 "nbformat": 4,
 "nbformat_minor": 4
}
