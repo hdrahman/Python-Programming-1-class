{
 "cells": [
  {
   "cell_type": "code",
   "execution_count": null,
   "metadata": {},
   "outputs": [],
   "source": [
    "'''\n",
    "Write a function that takes two arguments, both integers, and prints the product.\n",
    "\n",
    "In the main part of your program (the part that isn’t inside a function), call your function to test it out.\n",
    "'''\n",
    "\n",
    "def practice(x,y):\n",
    "    print(x+y)\n",
    "practice(15,15)\n",
    "    "
   ]
  }
 ],
 "metadata": {
  "kernelspec": {
   "display_name": "Python 3",
   "language": "python",
   "name": "python3"
  },
  "language_info": {
   "codemirror_mode": {
    "name": "ipython",
    "version": 3
   },
   "file_extension": ".py",
   "mimetype": "text/x-python",
   "name": "python",
   "nbconvert_exporter": "python",
   "pygments_lexer": "ipython3",
   "version": "3.8.5"
  }
 },
 "nbformat": 4,
 "nbformat_minor": 4
}
