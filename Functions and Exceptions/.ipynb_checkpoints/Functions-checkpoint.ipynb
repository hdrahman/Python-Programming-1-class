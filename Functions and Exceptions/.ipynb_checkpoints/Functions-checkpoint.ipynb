{
 "cells": [
  {
   "cell_type": "code",
   "execution_count": 6,
   "metadata": {},
   "outputs": [
    {
     "name": "stdout",
     "output_type": "stream",
     "text": [
      "Enter Weather: sunny, rainy, snowy sunny\n",
      "On a sunny day, sandals are appropriate footwear.\n"
     ]
    }
   ],
   "source": [
    "# weather\n",
    "'''\n",
    "Write a program that will give suggested footwear based on the weather.\n",
    "\n",
    "Ask the user for the weather outside with three options (sunny, rainy, or snowy) \n",
    "and give the correct footwear suggestion (sandals, galoshes, or boots). Each option should be written \n",
    "as its own function that prints a message based on the input.\n",
    "'''\n",
    "def sandals():\n",
    "    print(\"On a sunny day, sandals are appropriate footwear.\")\n",
    "def galoshes():\n",
    "    print(\"On a rainy day, galoshes are appropriate footwear.\")\n",
    "def boots():\n",
    "    print(\"On a snowy day, boots are appropriate footwear.\")\n",
    "    \n",
    "    \n",
    "Weather = input(\"Enter Weather: sunny, rainy, snowy \")\n",
    "if Weather == \"sunny\":\n",
    "    sandals()\n",
    "elif Weather == \"rainy\":\n",
    "    galoshes()\n",
    "elif Weather == \"snowy\":\n",
    "    boots()\n"
   ]
  }
 ],
 "metadata": {
  "kernelspec": {
   "display_name": "Python 3",
   "language": "python",
   "name": "python3"
  },
  "language_info": {
   "codemirror_mode": {
    "name": "ipython",
    "version": 3
   },
   "file_extension": ".py",
   "mimetype": "text/x-python",
   "name": "python",
   "nbconvert_exporter": "python",
   "pygments_lexer": "ipython3",
   "version": "3.8.5"
  }
 },
 "nbformat": 4,
 "nbformat_minor": 4
}
