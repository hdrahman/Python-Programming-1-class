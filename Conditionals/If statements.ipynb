{
 "cells": [
  {
   "cell_type": "code",
   "execution_count": null,
   "metadata": {},
   "outputs": [],
   "source": [
    "'''\n",
    "his program has a few problems with it. Fix it so that it prints I can juggle! if the variable is True, and I can't juggle. if the variable is False.\n",
    "'''\n",
    "\n",
    "can_juggle = True\n",
    "\n",
    "# The code below has problems. See if\n",
    "# you can fix them!\n",
    "if can_juggle: \n",
    "    print(\"I can juggle!\")\n",
    "else:\n",
    "    print(\"I can't juggle.\")"
   ]
  },
  {
   "cell_type": "code",
   "execution_count": null,
   "metadata": {},
   "outputs": [],
   "source": [
    "'''\n",
    "Write a program that has a Boolean variable that represents whether or not it is raining outside. Your program should print I'm going to dance in the rain! if it is raining, and I'm going to dance in the sun! if it is not raining.\n",
    "'''\n",
    "\n",
    "raining = True\n",
    "\n",
    "if raining:\n",
    "    print(\"I'm going to dance in the rain!\")\n",
    "else:\n",
    "    print(\"I'm going to dance in the sun!\")"
   ]
  }
 ],
 "metadata": {
  "kernelspec": {
   "display_name": "Python 3",
   "language": "python",
   "name": "python3"
  },
  "language_info": {
   "codemirror_mode": {
    "name": "ipython",
    "version": 3
   },
   "file_extension": ".py",
   "mimetype": "text/x-python",
   "name": "python",
   "nbconvert_exporter": "python",
   "pygments_lexer": "ipython3",
   "version": "3.8.5"
  }
 },
 "nbformat": 4,
 "nbformat_minor": 4
}
