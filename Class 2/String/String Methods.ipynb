{
 "cells": [
  {
   "cell_type": "code",
   "execution_count": null,
   "metadata": {},
   "outputs": [],
   "source": [
    "'''\n",
    "Write the function name_contains that takes as input a name and a letter, then returns True if the name contains that \n",
    "letter and False otherwise.\n",
    "'''\n",
    "\n",
    "def name_contains(name, letter):\n",
    "    index = name.find(letter)\n",
    "    if index >= 0:\n",
    "        return True\n",
    "    else:\n",
    "        return False"
   ]
  },
  {
   "cell_type": "code",
   "execution_count": null,
   "metadata": {},
   "outputs": [],
   "source": [
    "'''\n",
    "Write the function called remove_all_from_string that takes two strings and returns a copy of the first string \n",
    "with all instances of the second string removed. You can assume that the second string is only one letter, like \"a\".\n",
    "'''\n",
    "\n",
    "def remove_all_from_string(word, letter):\n",
    "    while letter in word:\n",
    "        index = word.find(letter)\n",
    "        word = word[0:index] + word[index+1:]\n",
    "    return word\n",
    "\n"
   ]
  },
  {
   "cell_type": "code",
   "execution_count": null,
   "metadata": {},
   "outputs": [],
   "source": [
    "'''\n",
    "Write a function called remove_all_from_string that takes two strings, and returns a copy of the first string with all instances of the second \n",
    "string removed. This time, the second string may be any length, including 0.\n",
    "'''\n",
    "\n",
    "def remove_all_from_string(str1, str2):\n",
    "    str2len = len(str2)\n",
    "    while str2 in str1:\n",
    "        index = str1.find(str2)\n",
    "        str1 = str1[:index] + str1[index + str2len +2:]\n",
    "    return str1\n",
    "\n",
    "print(remove_all_from_string(\"bananas\", \"na\"))\n",
    "        "
   ]
  }
 ],
 "metadata": {
  "kernelspec": {
   "display_name": "Python 3",
   "language": "python",
   "name": "python3"
  },
  "language_info": {
   "codemirror_mode": {
    "name": "ipython",
    "version": 3
   },
   "file_extension": ".py",
   "mimetype": "text/x-python",
   "name": "python",
   "nbconvert_exporter": "python",
   "pygments_lexer": "ipython3",
   "version": "3.8.5"
  }
 },
 "nbformat": 4,
 "nbformat_minor": 4
}
