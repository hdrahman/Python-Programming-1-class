{
 "cells": [
  {
   "cell_type": "code",
   "execution_count": null,
   "metadata": {},
   "outputs": [],
   "source": [
    "'''\n",
    "Write the function name_contains that takes as input a name and a letter, then returns True if the name contains that \n",
    "letter and False otherwise.\n",
    "'''\n",
    "\n",
    "def name_contains(name, letter):\n",
    "    index = name.find(letter)\n",
    "    if index >= 0:\n",
    "        return True\n",
    "    else:\n",
    "        return False"
   ]
  },
  {
   "cell_type": "code",
   "execution_count": null,
   "metadata": {},
   "outputs": [],
   "source": [
    "'''\n",
    "Write the function called remove_all_from_string that takes two strings and returns a copy of the first string \n",
    "with all instances of the second string removed. You can assume that the second string is only one letter, like \"a\".\n",
    "'''\n",
    "\n",
    "def remove_all_from_string(word, letter):\n",
    "    while letter in word:\n",
    "        index = word.find(letter)\n",
    "        word = word[0:index] + word[index+1:]\n",
    "    return word\n",
    "\n"
   ]
  },
  {
   "cell_type": "code",
   "execution_count": null,
   "metadata": {},
   "outputs": [],
   "source": []
  }
 ],
 "metadata": {
  "kernelspec": {
   "display_name": "Python 3",
   "language": "python",
   "name": "python3"
  },
  "language_info": {
   "codemirror_mode": {
    "name": "ipython",
    "version": 3
   },
   "file_extension": ".py",
   "mimetype": "text/x-python",
   "name": "python",
   "nbconvert_exporter": "python",
   "pygments_lexer": "ipython3",
   "version": "3.8.5"
  }
 },
 "nbformat": 4,
 "nbformat_minor": 4
}
