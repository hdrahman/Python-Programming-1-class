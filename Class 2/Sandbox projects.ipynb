{
 "cells": [
  {
   "cell_type": "code",
   "execution_count": null,
   "metadata": {},
   "outputs": [],
   "source": [
    "# write a len function without using the len function\n",
    "\n",
    "phrase = \"This is a random long string\"\n",
    "length = -1\n",
    "for letter in phrase:\n",
    "    length += 1\n",
    "print(length)\n"
   ]
  },
  {
   "cell_type": "code",
   "execution_count": null,
   "metadata": {},
   "outputs": [],
   "source": [
    "'''\n",
    "Write a Python program to get a string made of the first 2 and the last 2 chars from a given a string. If the string length is less than 2, return instead of the empty string.\n",
    "Sample String : 'programming'\n",
    "Expected Result : 'prng'\n",
    "Sample String : 's2'\n",
    "Expected Result : \"s2s2\"\n",
    "Sample String : ' m'\n",
    "Expected Result : Empty String\n",
    "'''\n",
    "\n",
    "def string_len(string):\n",
    "    x = len(string)\n",
    "    if x >= 2:\n",
    "        print(string[0:1], string[-1:-2])\n",
    "    else:\n",
    "        \" \"\n",
    "        \n",
    "string_len(\"hello there\")\n",
    "    "
   ]
  },
  {
   "cell_type": "code",
   "execution_count": null,
   "metadata": {},
   "outputs": [],
   "source": [
    "'''\n",
    "Write a Python program to get a string made of the first 2 and the last 2 chars from a given a string. If the string length is less than 2, return instead of the empty string.\n",
    "Sample String : 'programming'\n",
    "Expected Result : 'prng'\n",
    "Sample String : 's2'\n",
    "Expected Result : \"s2s2\"\n",
    "Sample String : ' m'\n",
    "Expected Result : Empty String\n",
    "'''\n",
    "\n",
    "def string_lenght(string):\n",
    "    x = len(string)\n",
    "    if x >= 2:\n",
    "        print(string[0:2] + string[-3:-1])\n",
    "\n",
    "        \n",
    "string_lenght(\"hello there\")\n",
    "    \n",
    "    "
   ]
  },
  {
   "cell_type": "code",
   "execution_count": null,
   "metadata": {},
   "outputs": [],
   "source": [
    "'''\n",
    "Write a function that mirrors its string argument, generating and returning  a string containing the original string and the \n",
    "string backwards.\n",
    "     \n",
    "        python will be returned as pythonnohtyp\n",
    "\n",
    "'''\n",
    "\n",
    "def reverse(string):\n",
    "    new_string = \"\"\n",
    "    for letter in string:\n",
    "        new_string = letter + new_string\n",
    "         \n",
    "    return string + new_string\n",
    "print(reverse(\"python\"))"
   ]
  },
  {
   "cell_type": "code",
   "execution_count": 2,
   "metadata": {},
   "outputs": [
    {
     "name": "stdout",
     "output_type": "stream",
     "text": [
      "ts\n"
     ]
    }
   ],
   "source": [
    "'''\n",
    "Create a function that takes a string and removes the characters which have odd index values of the given string , \n",
    "return the result string.\n",
    "            \n",
    "            Test your function\n",
    "\tExample:  “test” will be returned as “ts” where index 1 “e” and index 3 “t” are removed.\n",
    "\n",
    "'''\n",
    "\n",
    "def remove_odd(string):\n",
    "    new_string = \"\"\n",
    "    for i in range(len(string)):\n",
    "        if i%2 == 0:\n",
    "            new_string = new_string + string[i]\n",
    "    return new_string\n",
    "\n",
    "print(remove_odd(\"test\"))\n",
    "    "
   ]
  },
  {
   "cell_type": "code",
   "execution_count": 11,
   "metadata": {},
   "outputs": [
    {
     "name": "stdout",
     "output_type": "stream",
     "text": [
      "Enter stringbbbbbb\n",
      "Enter subbb\n",
      "number of occurances is 3\n"
     ]
    }
   ],
   "source": [
    "# Minor test\n",
    "\n",
    "def test(string, sub):\n",
    "    counter = 0\n",
    "    while sub in string:\n",
    "        counter += 1\n",
    "        find = string.find(sub)\n",
    "        length = len(sub)\n",
    "        string = string[:find] + string[find+length:]\n",
    "    return counter\n",
    "'''\n",
    "checks to see if sub is in string\n",
    "'''\n",
    "x = 0\n",
    "while x == 0:\n",
    "    string = input(\"Enter string\")\n",
    "    sub = input(\"Enter sub\")\n",
    "    if sub in string:\n",
    "        x = 1\n",
    "    else:\n",
    "        print(\"substring not found. Please try again\")\n",
    "print(\"number of occurances is \" + str(test(string, sub)))\n",
    "    \n"
   ]
  },
  {
   "cell_type": "code",
   "execution_count": 36,
   "metadata": {},
   "outputs": [
    {
     "name": "stdout",
     "output_type": "stream",
     "text": [
      "Enter string: aadd\n",
      "Enter Character: aa\n",
      "Your text contains 4 alphabetic characters of which 0 (0%) are 'aa'.\n"
     ]
    }
   ],
   "source": [
    "'''\n",
    "Write a function that takes one parameter and counts the number of alphabetic characters (a through z, or A through Z) in an \n",
    "input taken from the user and then counts how many “a”s exist in the text.. Your function should print an analysis of the text \n",
    "like this:\n",
    "\n",
    "Your text contains 5 alphabetic characters of which 2 ( 40.0 %) are 'a'.\n",
    "\n",
    "If the text does not contain the letter “a”,ask the user for another input.\n",
    "Add single line and multiline comments.\n",
    "'''\n",
    "#chech if character in string\n",
    "\n",
    "while True:\n",
    "    string = input(\"Enter string: \")\n",
    "    character = input(\"Enter Character: \")\n",
    "    char_in_str = string.find(character) \n",
    "    if char_in_str == -1:\n",
    "        print(\"Your character is not in string\")\n",
    "    else:\n",
    "        break\n",
    "\n",
    "def charcount(String):\n",
    "    counter = 0\n",
    "    for i in string:\n",
    "        x = string.isalpha()\n",
    "        if x == True:\n",
    "            counter +=1\n",
    "    return counter\n",
    "\n",
    "def alphacount(String, Character):\n",
    "    counter2 = 0\n",
    "    for i in String:\n",
    "        if i == Character:\n",
    "            counter2 += 1\n",
    "    return counter2\n",
    "\n",
    "def percentcalc(alphanum, stringnum):\n",
    "    percent = (alphanum/stringnum)*100\n",
    "    return round(percent)\n",
    "\n",
    "number_of_alphabetical_charecters = charcount(string)\n",
    "\n",
    "number_of_required_letter = alphacount(string, character)\n",
    "\n",
    "percent = percentcalc(alphacount(string, character), charcount(string))\n",
    "\n",
    "print(\"Your text contains\", str(number_of_alphabetical_charecters),  \"alphabetic characters of which\", number_of_required_letter, \"(\" + str(percent) + \"%) are '\" + character+ \"'.\")                             "
   ]
  },
  {
   "cell_type": "code",
   "execution_count": 44,
   "metadata": {},
   "outputs": [
    {
     "name": "stdout",
     "output_type": "stream",
     "text": [
      "Enter string: hi hihi\n",
      "3\n"
     ]
    }
   ],
   "source": [
    "'''\n",
    "Write a function that takes a string parameter and then  counts how many times the substring “hi”  \n",
    "occurs in the string.\n",
    "Return the number of occurrences of the substring. If the substring does not exist , display a \n",
    "message that it is not found and ask the user again.\n",
    "\n",
    "Enter your string hi hello hi\n",
    "The number of occurrences of hi in hi hello hi is : 2\n",
    "'''\n",
    "\n",
    "def hicounter(string):\n",
    "    counter = 0\n",
    "    while \"hi\" in string:\n",
    "        location = string.find(\"hi\")\n",
    "        counter += 1\n",
    "        string = string[:location] + string[location+2:]\n",
    "    return counter\n",
    "input1 = input(\"Enter string: \")\n",
    "print(hicounter(input1))\n",
    "    "
   ]
  },
  {
   "cell_type": "code",
   "execution_count": null,
   "metadata": {},
   "outputs": [],
   "source": []
  },
  {
   "cell_type": "code",
   "execution_count": null,
   "metadata": {},
   "outputs": [],
   "source": []
  }
 ],
 "metadata": {
  "kernelspec": {
   "display_name": "Python 3",
   "language": "python",
   "name": "python3"
  },
  "language_info": {
   "codemirror_mode": {
    "name": "ipython",
    "version": 3
   },
   "file_extension": ".py",
   "mimetype": "text/x-python",
   "name": "python",
   "nbconvert_exporter": "python",
   "pygments_lexer": "ipython3",
   "version": "3.8.5"
  }
 },
 "nbformat": 4,
 "nbformat_minor": 4
}
