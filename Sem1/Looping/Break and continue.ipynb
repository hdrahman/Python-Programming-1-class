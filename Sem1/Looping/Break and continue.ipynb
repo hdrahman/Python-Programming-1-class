{
 "cells": [
  {
   "cell_type": "code",
   "execution_count": null,
   "metadata": {},
   "outputs": [],
   "source": [
    "'''\n",
    "Write a program that makes the user guess a particular number between 1 and 100. Save the number to be guessed in a variable \n",
    "called magic_number.\n",
    "\n",
    "If the user guesses a number higher than the secret number, you should say Too high!. Similarly, you should say Too low! if \n",
    "they guess a number lower than the secret number. Once they guess the number, say Correct!\n",
    "'''\n",
    "\n",
    "magic_number = 3\n",
    "\n",
    "# Your code here...\n",
    "\n",
    "while True:\n",
    "    guess = int(input(\"Guess a number between 1 and 100: \"))\n",
    "    if guess == magic_number:\n",
    "        print(\"Correct!\")\n",
    "        break\n",
    "    elif guess > magic_number:\n",
    "        print(\"Too high!\")\n",
    "        continue\n",
    "    elif guess < magic_number:\n",
    "        print(\"Too low!\")\n",
    "        continue"
   ]
  },
  {
   "cell_type": "code",
   "execution_count": null,
   "metadata": {},
   "outputs": [],
   "source": [
    "'''\n",
    "Write a program that makes the user guess a particular float. Now, recall that you should not compare floats to determine \n",
    "if they are exactly equal. In this program, the user wins if their guess is accurate to within 2 decimal places. You will have \n",
    "to use round in your comparison of their guess to your number.\n",
    "\n",
    "If the user’s guess was too high, you should say so. Similarly, you should tell them if their guess was too low.\n",
    "'''\n",
    "\n",
    "my_float = 3.3312\n",
    "correct = round(my_float, 2)\n",
    "# Your code here...\n",
    "\n",
    "while True:\n",
    "    guess = float(input(\"Guess a number between 1 and 100: \"))\n",
    "    if round(guess, 2) == correct:\n",
    "        print(\"Correct!\")\n",
    "        break\n",
    "    elif round(guess, 2) > correct:\n",
    "        print(\"Too high!\")\n",
    "        continue\n",
    "    elif round(guess, 2) < correct:\n",
    "        print(\"Too low!\")\n",
    "        continue"
   ]
  }
 ],
 "metadata": {
  "kernelspec": {
   "display_name": "Python 3",
   "language": "python",
   "name": "python3"
  },
  "language_info": {
   "codemirror_mode": {
    "name": "ipython",
    "version": 3
   },
   "file_extension": ".py",
   "mimetype": "text/x-python",
   "name": "python",
   "nbconvert_exporter": "python",
   "pygments_lexer": "ipython3",
   "version": "3.8.5"
  }
 },
 "nbformat": 4,
 "nbformat_minor": 4
}
