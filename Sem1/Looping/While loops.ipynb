{
 "cells": [
  {
   "cell_type": "code",
   "execution_count": null,
   "metadata": {},
   "outputs": [],
   "source": [
    "'''\n",
    "Write a program that prints even numbers 2 through 20 using a while loop.\n",
    "'''\n",
    "\n",
    "number = 2\n",
    "while number < 21:\n",
    "    print(number)\n",
    "    number += 2"
   ]
  },
  {
   "cell_type": "code",
   "execution_count": null,
   "metadata": {},
   "outputs": [],
   "source": [
    "'''\n",
    "We want to ask a user for two numbers and then divide them. The issue is that we cannot divide a number by 0.\n",
    "'''\n",
    "\n",
    "numerator = int(input(\"Enter a numerator: \"))\n",
    "denominator = int(input(\"Enter denominator: \"))\n",
    "\n",
    "while denominator == 0:\n",
    "    denominator = int(input(\"Enter denominator: \"))\n",
    "if int(numerator / denominator) * denominator == numerator:\n",
    "    print(\"Divides evenly!\")\n",
    "else:\n",
    "    print(\"Doesn't divide evenly.\")"
   ]
  }
 ],
 "metadata": {
  "kernelspec": {
   "display_name": "Python 3",
   "language": "python",
   "name": "python3"
  },
  "language_info": {
   "codemirror_mode": {
    "name": "ipython",
    "version": 3
   },
   "file_extension": ".py",
   "mimetype": "text/x-python",
   "name": "python",
   "nbconvert_exporter": "python",
   "pygments_lexer": "ipython3",
   "version": "3.8.5"
  }
 },
 "nbformat": 4,
 "nbformat_minor": 4
}
