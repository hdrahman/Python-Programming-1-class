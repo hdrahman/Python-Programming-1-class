{
 "cells": [
  {
   "cell_type": "code",
   "execution_count": null,
   "metadata": {},
   "outputs": [],
   "source": [
    "#Print Vertical name\n",
    "\n",
    "print(\"H\")\n",
    "print(\"a\")\n",
    "print(\"a\")\n",
    "print(\"m\")\n",
    "print(\"e\")\n",
    "print(\"d\")"
   ]
  },
  {
   "cell_type": "code",
   "execution_count": null,
   "metadata": {},
   "outputs": [],
   "source": [
    "#Fix This Program!\n",
    "\n",
    "print(\"Hi there!\")\n",
    "print(\"My favorite color is magenta.\")"
   ]
  },
  {
   "cell_type": "code",
   "execution_count": null,
   "metadata": {},
   "outputs": [],
   "source": [
    "#Introduce Yourself\n",
    "\n",
    "print(\"My name is Haamed\")\n",
    "print(\"I like writing Python programs!\")"
   ]
  }
 ],
 "metadata": {
  "kernelspec": {
   "display_name": "Python 3",
   "language": "python",
   "name": "python3"
  },
  "language_info": {
   "codemirror_mode": {
    "name": "ipython",
    "version": 3
   },
   "file_extension": ".py",
   "mimetype": "text/x-python",
   "name": "python",
   "nbconvert_exporter": "python",
   "pygments_lexer": "ipython3",
   "version": "3.8.5"
  }
 },
 "nbformat": 4,
 "nbformat_minor": 4
}
