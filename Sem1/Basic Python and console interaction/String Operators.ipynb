{
 "cells": [
  {
   "cell_type": "code",
   "execution_count": null,
   "metadata": {},
   "outputs": [],
   "source": [
    "#Fix This Program\n",
    "\n",
    "instrument = \"kazoo\"\n",
    "age = 7\n",
    "\n",
    "print(\"I have played the \" + instrument + \" since I was \" + str(age) + \" years old.\")"
   ]
  },
  {
   "cell_type": "code",
   "execution_count": null,
   "metadata": {},
   "outputs": [],
   "source": [
    "#Introduce Yourself, Part 2\n",
    "\n",
    "name = \"Haamed\"\n",
    "age = 15\n",
    "print(\"Hi! My name is \" + name + \" and I am \" + str(age) + \" years old.\")"
   ]
  },
  {
   "cell_type": "code",
   "execution_count": null,
   "metadata": {},
   "outputs": [],
   "source": [
    "#Rectangle, Part 2\n",
    "\n",
    "length = 10\n",
    "width = 5\n",
    "\n",
    "Area = length * width\n",
    "Perimeter = (length + width) * 2\n",
    "\n",
    "print(\"Area: \" + str(Area))\n",
    "print(\"Perimeter: \" + str(Perimeter))"
   ]
  },
  {
   "cell_type": "code",
   "execution_count": null,
   "metadata": {},
   "outputs": [],
   "source": [
    "#Rectangle, Part 3\n",
    "\n",
    "length = int(input(\"Enter length: \"))\n",
    "width = int(input(\"Enter Width: \"))\n",
    "\n",
    "Area = length * width\n",
    "Perimeter = (length + width) * 2\n",
    "\n",
    "print(\"Area: \" + str(Area))\n",
    "print(\"Perimeter: \" + str(Perimeter))"
   ]
  },
  {
   "cell_type": "code",
   "execution_count": null,
   "metadata": {},
   "outputs": [],
   "source": [
    "#Recipe\n",
    "\n",
    "\"\"\"\n",
    "This program asks the user for three ingredients,\n",
    "three amounts, and a number of servings, and\n",
    "determines how much of each ingredient is needed\n",
    "to serve the specified number of servings.\n",
    "\"\"\"\n",
    "\n",
    "# Write program here...\n",
    "\n",
    "ingredient_1 = input(\"Enter ingredient 1: \")\n",
    "Ounces1 = float(input(\"Ounces of \" + ingredient_1 + \" : \"))\n",
    "ingredient_2 = input(\"Enter ingredient 2: \")\n",
    "Ounces2 = float(input(\"Ounces of \" + ingredient_2 + \" : \"))\n",
    "ingredient_3 = input(\"Enter ingredient 3: \")\n",
    "Ounces3 = float(input(\"Ounces of \" + ingredient_3 + \" : \"))\n",
    "servings = float(input(\"Number of servings: \"))\n",
    "\n",
    "Total1 = Ounces1*servings\n",
    "Total2 = Ounces2*servings\n",
    "Total3 = Ounces3*servings\n",
    "\n",
    "print(\"Total ounces of \" + ingredient_1 + \": \" + str(Total1))\n",
    "print(\"Total ounces of \" + ingredient_2 + \": \" + str(Total2))\n",
    "print(\"Total ounces of \" + ingredient_3 + \": \" + str(Total3))"
   ]
  }
 ],
 "metadata": {
  "kernelspec": {
   "display_name": "Python 3",
   "language": "python",
   "name": "python3"
  },
  "language_info": {
   "codemirror_mode": {
    "name": "ipython",
    "version": 3
   },
   "file_extension": ".py",
   "mimetype": "text/x-python",
   "name": "python",
   "nbconvert_exporter": "python",
   "pygments_lexer": "ipython3",
   "version": "3.8.5"
  }
 },
 "nbformat": 4,
 "nbformat_minor": 4
}
