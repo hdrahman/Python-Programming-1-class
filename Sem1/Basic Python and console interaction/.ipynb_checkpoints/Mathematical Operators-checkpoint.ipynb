{
 "cells": [
  {
   "cell_type": "code",
   "execution_count": null,
   "metadata": {},
   "outputs": [],
   "source": [
    "#Rectangle\n",
    "\n",
    "length = 10\n",
    "width = 5\n",
    "\n",
    "area = length * width\n",
    "perimeter = (length + width) * 2\n",
    "\n",
    "print(area)\n",
    "print(perimeter)"
   ]
  }
 ],
 "metadata": {
  "kernelspec": {
   "display_name": "Python 3",
   "language": "python",
   "name": "python3"
  },
  "language_info": {
   "codemirror_mode": {
    "name": "ipython",
    "version": 3
   },
   "file_extension": ".py",
   "mimetype": "text/x-python",
   "name": "python",
   "nbconvert_exporter": "python",
   "pygments_lexer": "ipython3",
   "version": "3.8.5"
  }
 },
 "nbformat": 4,
 "nbformat_minor": 4
}
