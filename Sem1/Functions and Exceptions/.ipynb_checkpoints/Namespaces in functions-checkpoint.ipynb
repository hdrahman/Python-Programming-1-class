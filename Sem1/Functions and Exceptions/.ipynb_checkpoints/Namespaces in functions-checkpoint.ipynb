{
 "cells": [
  {
   "cell_type": "code",
   "execution_count": null,
   "metadata": {},
   "outputs": [],
   "source": [
    "#Add, Subtract, or Multiply\n",
    "'''\n",
    "Write a program that asks the user for two numbers. Then ask them if they would like to add, subtract, or multiply these \n",
    "numbers. Perform the chosen operation on the values, showing the operation being performed (use numbers in order even if a \n",
    "negative value is produced!)\n",
    "\n",
    "Write three functions, one for each mathematical operation.\n",
    "'''\n",
    "\n",
    "first = int(input(\"Enter number 1: \"))\n",
    "second = int(input(\"Enter number 2: \"))\n",
    "operation = input(\"Choose an operation (+, -, *): \")\n",
    "\n",
    "def add(num1, num2):\n",
    "    final = num1 + num2\n",
    "    print(num1, \"+\", num2, \"=\", final)\n",
    "def subtract(num1, num2):\n",
    "    final = num1 - num2\n",
    "    print(num1, \"-\", num2, \"=\", final)\n",
    "def multiply(num1, num2):\n",
    "    final = num1 * num2\n",
    "    print(num1, \"*\", num2, \"=\", final)\n",
    "\n",
    "if operation == \"+\":\n",
    "    add(first,second)\n",
    "if operation == \"-\":\n",
    "    subtract(first,second)\n",
    "if multiply == \"*\":\n",
    "    subtract(first,second)\n"
   ]
  }
 ],
 "metadata": {
  "kernelspec": {
   "display_name": "Python 3",
   "language": "python",
   "name": "python3"
  },
  "language_info": {
   "codemirror_mode": {
    "name": "ipython",
    "version": 3
   },
   "file_extension": ".py",
   "mimetype": "text/x-python",
   "name": "python",
   "nbconvert_exporter": "python",
   "pygments_lexer": "ipython3",
   "version": "3.8.5"
  }
 },
 "nbformat": 4,
 "nbformat_minor": 4
}
