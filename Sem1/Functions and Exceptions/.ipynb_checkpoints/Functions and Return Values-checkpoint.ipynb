{
 "cells": [
  {
   "cell_type": "code",
   "execution_count": 3,
   "metadata": {},
   "outputs": [
    {
     "name": "stdout",
     "output_type": "stream",
     "text": [
      "10\n"
     ]
    }
   ],
   "source": [
    "#Adding two numbers using return\n",
    "\n",
    "def addition(num1, num2):\n",
    "    return num1+num2\n",
    "\n",
    "print(addition(5,2))"
   ]
  },
  {
   "cell_type": "code",
   "execution_count": null,
   "metadata": {},
   "outputs": [],
   "source": [
    "# Temp converters\n",
    "\n",
    "# function for converting Celsius to Fahrenheit here.\n",
    "def c_to_f(c):\n",
    "    return (1.8*c) + 32\n",
    "\n",
    "\n",
    "\n",
    "\n",
    "\n",
    "#function for converting Fahrenheit to Celsius.\n",
    "\n",
    "def F_to_C(f):\n",
    "    return (f-32)/1.8\n",
    "\n",
    "\n",
    "# Now change 0C to F:\n",
    "\n",
    "print(c_to_f(0))\n",
    "\n",
    "# Change 100C to F:\n",
    "\n",
    "print(c_to_f(100))\n",
    "\n",
    "# Change 40F to C:\n",
    "\n",
    "print(F_to_C(40))\n",
    "\n",
    "# Change 80F to C:\n",
    "\n",
    "print(F_to_C(80))"
   ]
  }
 ],
 "metadata": {
  "kernelspec": {
   "display_name": "Python 3",
   "language": "python",
   "name": "python3"
  },
  "language_info": {
   "codemirror_mode": {
    "name": "ipython",
    "version": 3
   },
   "file_extension": ".py",
   "mimetype": "text/x-python",
   "name": "python",
   "nbconvert_exporter": "python",
   "pygments_lexer": "ipython3",
   "version": "3.8.5"
  }
 },
 "nbformat": 4,
 "nbformat_minor": 4
}
