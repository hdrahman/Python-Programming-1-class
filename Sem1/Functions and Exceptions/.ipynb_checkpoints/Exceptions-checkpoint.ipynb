{
 "cells": [
  {
   "cell_type": "code",
   "execution_count": null,
   "metadata": {},
   "outputs": [],
   "source": [
    "#Temp program with exceptions\n",
    "\n",
    "def c_to_f(c):\n",
    "    return (1.8*c) + 32\n",
    "    \n",
    "def F_to_C(f):\n",
    "    return (f-32)/1.8\n",
    "\n",
    "\n",
    "try:\n",
    "    temp = float(input(\"Enter a temp: \"))\n",
    "    c_to_f(temp)\n",
    "except ValueError: \n",
    "    print(\"Enter a number please.\")\n",
    "    \n",
    "\n",
    "\n",
    "\n",
    "\n",
    "\n",
    "try:\n",
    "    temp = float(input(\"Enter a temp: \"))\n",
    "    F_to_C(temp)\n",
    "except ValueError: \n",
    "    print(\"Enter a number please.\")"
   ]
  },
  {
   "cell_type": "code",
   "execution_count": null,
   "metadata": {},
   "outputs": [],
   "source": [
    "#Get positive number\n",
    "\n",
    "num = 0\n",
    "def retrieve_positive_number():\n",
    "    while num <= 0:\n",
    "        try:\n",
    "            num = int(input(\"Enter a positive number: \"))\n",
    "        except ValueError:\n",
    "            print(\"You need to enter a integer value\")\n",
    "        print(\"What you entered is not a positive number\")\n",
    "    return num"
   ]
  }
 ],
 "metadata": {
  "kernelspec": {
   "display_name": "Python 3",
   "language": "python",
   "name": "python3"
  },
  "language_info": {
   "codemirror_mode": {
    "name": "ipython",
    "version": 3
   },
   "file_extension": ".py",
   "mimetype": "text/x-python",
   "name": "python",
   "nbconvert_exporter": "python",
   "pygments_lexer": "ipython3",
   "version": "3.8.5"
  }
 },
 "nbformat": 4,
 "nbformat_minor": 4
}
