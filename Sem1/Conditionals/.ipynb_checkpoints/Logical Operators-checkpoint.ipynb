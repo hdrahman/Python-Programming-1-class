{
 "cells": [
  {
   "cell_type": "code",
   "execution_count": null,
   "metadata": {},
   "outputs": [],
   "source": [
    "'''\n",
    "Write a program that lets you know if you can have a key or not, based on your role at the school.\n",
    "\n",
    "First ask for the user’s role at the school. They can be a student, administrator, or a teacher. (And remember that capitalization is important! ‘Student’ is not the same as ‘student’.)\n",
    "'''\n",
    "job = input(\"Are you an administrator, teacher, or student?: \")\n",
    "key_role1 = \"administrator\"\n",
    "key_role2 = \"teacher\"\n",
    "students = \"student\"\n",
    "\n",
    "if job == key_role1:\n",
    "    print(\"Administrators and teachers get keys!\")\n",
    "elif job == key_role2:\n",
    "    print(\"Administrators and teachers get keys!\")\n",
    "elif job == students:\n",
    "    print(\"Students do not get keys!\")\n",
    "else:\n",
    "    print(\"You can only be an administrator, teacher, or student!\")"
   ]
  },
  {
   "cell_type": "code",
   "execution_count": null,
   "metadata": {},
   "outputs": [],
   "source": [
    "'''\n",
    "Write a program that reports whether or not someone is eligible to run for president in the U.S. You should do the following in your program:\n",
    "\n",
    "Ask the user for their age, and store it in a variable\n",
    "Ask the user if they are a citizen of the U.S.\n",
    "Ask the user how long they’ve been a resident in the U.S.\n",
    "Use an if/else statement with the proper comparison operator to print You are eligible to run for president! if they have the following credentials:\n",
    "They are at least 35 years old\n",
    "They were born in the U.S.\n",
    "They have been a resident for at least 14 years\n",
    "'''\n",
    "\n",
    "age = int(input(\"Age: \"))\n",
    "citizenship = input(\"Born in the U.S.? (Yes/No): \")\n",
    "lenght_of_residency = int(input(\"Years of Residency: \"))\n",
    "\n",
    "if age >= 35:\n",
    "    if citizenship == \"Yes\":\n",
    "        if lenght_of_residency >= 14:\n",
    "            print(\"You are eligible to run for president!\")\n",
    "else:\n",
    "    print(\"You are not eligible to run for president.\")"
   ]
  }
 ],
 "metadata": {
  "kernelspec": {
   "display_name": "Python 3",
   "language": "python",
   "name": "python3"
  },
  "language_info": {
   "codemirror_mode": {
    "name": "ipython",
    "version": 3
   },
   "file_extension": ".py",
   "mimetype": "text/x-python",
   "name": "python",
   "nbconvert_exporter": "python",
   "pygments_lexer": "ipython3",
   "version": "3.8.5"
  }
 },
 "nbformat": 4,
 "nbformat_minor": 4
}
