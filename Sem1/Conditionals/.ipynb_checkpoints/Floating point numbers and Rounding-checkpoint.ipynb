{
 "cells": [
  {
   "cell_type": "code",
   "execution_count": null,
   "metadata": {},
   "outputs": [],
   "source": [
    "'''\n",
    "This program computes how many tons of food each person in a group should take based on how many total tons of food the group \n",
    "has and how many people are in the group. It then asks the user how much food they took.\n",
    "'''\n",
    "\n",
    "# Amount of food and number of people\n",
    "tons_of_food = 0.07\n",
    "num_people = 25\n",
    "\n",
    "# Determine how much food each person gets\n",
    "tons_of_food_per_person = tons_of_food / num_people\n",
    "print(tons_of_food_per_person)\n",
    "\n",
    "# Ask the user how much food they took\n",
    "tons_taken = float(input(\"How many tons of food did you take? \"))\n",
    "if round(tons_taken,5) == round(tons_of_food_per_person,5):\n",
    "    print(\"Good job, you took the right amount of food!\")\n",
    "else:\n",
    "    print(\"You took the wrong amount of food!\")"
   ]
  }
 ],
 "metadata": {
  "kernelspec": {
   "display_name": "Python 3",
   "language": "python",
   "name": "python3"
  },
  "language_info": {
   "codemirror_mode": {
    "name": "ipython",
    "version": 3
   },
   "file_extension": ".py",
   "mimetype": "text/x-python",
   "name": "python",
   "nbconvert_exporter": "python",
   "pygments_lexer": "ipython3",
   "version": "3.8.5"
  }
 },
 "nbformat": 4,
 "nbformat_minor": 4
}
