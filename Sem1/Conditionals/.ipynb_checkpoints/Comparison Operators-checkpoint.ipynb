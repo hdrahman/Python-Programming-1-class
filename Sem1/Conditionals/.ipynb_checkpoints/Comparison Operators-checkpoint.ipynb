{
 "cells": [
  {
   "cell_type": "code",
   "execution_count": null,
   "metadata": {},
   "outputs": [],
   "source": [
    "'''\n",
    "Write a program that reports whether or not someone is old enough to vote in the U.S. You should do the following in your program:\n",
    "\n",
    "Ask the user for their age, and store it in a variable\n",
    "Use an if/else statement with the proper comparison operator to print You are old enough to vote! if the person’s age is at least 18, and You are not old enough to vote. otherwise\n",
    "'''\n",
    "\n",
    "Age = int(input(\"Enter your current age: \"))\n",
    "\n",
    "if Age >= 18:\n",
    "    print(\"old enough to vote.\")\n",
    "elif Age < 18:\n",
    "    print(\"not old enough to vote.\")\n",
    "else:\n",
    "    print(\"Please enter a number\")"
   ]
  },
  {
   "cell_type": "code",
   "execution_count": null,
   "metadata": {},
   "outputs": [],
   "source": [
    "'''\n",
    "Write a program that asks the user for their name using input. It should have another string variable that represents the name on a particular table reservation in a restaurant, stored in a variable called reservation_name. The program should print Right this way! if the user’s name matches the name on the reservation, and Sorry, we don't have a reservation under that name. otherwise.\n",
    "'''\n",
    "\n",
    "name = input(\"Enter your name: \")\n",
    "reservation_name = \"Haamed\"\n",
    "\n",
    "if name == reservation_name:\n",
    "    print(\"Right this way!\")\n",
    "else:\n",
    "    print(\"Sorry, we don't have a reservation under that name.\")"
   ]
  },
  {
   "cell_type": "code",
   "execution_count": null,
   "metadata": {},
   "outputs": [],
   "source": [
    "'''\n",
    "You’ve been hired to help a bank automate their deposit/withdrawal system! Your task is to write a Python program that interacts with a customer in order to process a deposit or withdrawal.\n",
    "\n",
    "Assume the customer has an initial balance of $1000 (you should store the number 1000 in a variable). Then, ask the user two things:\n",
    "\n",
    "Whether they want to make a deposit or withdrawal\n",
    "\n",
    "For this step, they should type deposit or withdrawal, depending on what they want to do. It needs to be the exact spelling, including capitalization!\n",
    "How much money they want to deposit or withdraw\n",
    "\n",
    "For this step, they should enter an integer.\n",
    "Then, your program should use an if/elif/else statement to do the following:\n",
    "\n",
    "If the customer is making a deposit, add the amount to their balance.\n",
    "If the customer is making a withdrawal, subtract the amount from their balance.\n",
    "If the customer typed something other than \"deposit\" or \"withdrawal\", print \"Invalid transaction.\".\n",
    "In this case, the customer’s final balance is just the same as their initial balance.\n",
    "Finally, your program should use an if/else statement to do the following:\n",
    "\n",
    "If the customer’s final balance would be negative (less than zero), tell them \"You cannot have a negative balance!\".\n",
    "Otherwise, report their final balance.\n",
    "'''\n",
    "\n",
    "\n",
    "# This program simulates a single transaction -\n",
    "# either a deposit or a withdrawal - at a bank.\n",
    "\n",
    "balance = 1000\n",
    "\n",
    "deposit = \"deposit\"\n",
    "withdraw = \"withdrawal\"\n",
    "\n",
    "action = input(\"deposit or withdrawal: \")\n",
    "if action == deposit:\n",
    "    amount = int(input(\"Enter amount: \"))\n",
    "    balance = balance + amount\n",
    "    print(\"Final balance: \", balance)\n",
    "elif action == withdraw:\n",
    "    amount = int(input(\"Enter amount: \"))\n",
    "    if amount <= balance:\n",
    "        balance = balance - amount\n",
    "        print(\"Final balance: \", balance)\n",
    "    else:\n",
    "        print(\"You cannot have a negative balance!\")\n",
    "else:\n",
    "    print(\"Invalid transaction.\")"
   ]
  }
 ],
 "metadata": {
  "kernelspec": {
   "display_name": "Python 3",
   "language": "python",
   "name": "python3"
  },
  "language_info": {
   "codemirror_mode": {
    "name": "ipython",
    "version": 3
   },
   "file_extension": ".py",
   "mimetype": "text/x-python",
   "name": "python",
   "nbconvert_exporter": "python",
   "pygments_lexer": "ipython3",
   "version": "3.8.5"
  }
 },
 "nbformat": 4,
 "nbformat_minor": 4
}
