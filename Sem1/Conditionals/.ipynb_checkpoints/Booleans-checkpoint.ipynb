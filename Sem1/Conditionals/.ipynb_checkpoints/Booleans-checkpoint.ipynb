{
 "cells": [
  {
   "cell_type": "code",
   "execution_count": null,
   "metadata": {},
   "outputs": [],
   "source": [
    "#Fix this program to make it work\n",
    "\n",
    "brought_food = True\n",
    "brought_drink = False\n",
    "\n",
    "# These lines don't work! Fix them so that they do.\n",
    "print(\"Did the person bring food? \" + str(brought_food))\n",
    "print(\"Did the person bring a drink? \" + str(brought_drink))"
   ]
  },
  {
   "cell_type": "code",
   "execution_count": null,
   "metadata": {},
   "outputs": [],
   "source": [
    "'''\n",
    "Write a program to help you take care of your plants!\n",
    "\n",
    "A boolean variable called needs_water exists that represents whether or not one of your plants needs water. It is set to True and its value is being printed to the screen.\n",
    "\n",
    "Make another boolean variable called needs_to_be_repotted that represents whether or not you need to repot one of your plants. Set the value to False and print it to the screen.\n",
    "'''\n",
    "\n",
    "needs_water = True\n",
    "needs_to_be_repotted = False\n",
    "\n",
    "print \"Needs water: \" + str(needs_water)\n",
    "print \"Needs to be repotted: \" + str(needs_to_be_repotted)"
   ]
  }
 ],
 "metadata": {
  "kernelspec": {
   "display_name": "Python 3",
   "language": "python",
   "name": "python3"
  },
  "language_info": {
   "codemirror_mode": {
    "name": "ipython",
    "version": 3
   },
   "file_extension": ".py",
   "mimetype": "text/x-python",
   "name": "python",
   "nbconvert_exporter": "python",
   "pygments_lexer": "ipython3",
   "version": "3.8.5"
  }
 },
 "nbformat": 4,
 "nbformat_minor": 4
}
