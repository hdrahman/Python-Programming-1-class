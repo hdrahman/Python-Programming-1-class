{
 "cells": [
  {
   "cell_type": "code",
   "execution_count": null,
   "metadata": {},
   "outputs": [],
   "source": [
    "#Make Some Variables!\n",
    "\n",
    "string_variable = \"String\"\n",
    "int_variable = 23\n",
    "print(string_variable)\n",
    "print(int_variable)"
   ]
  },
  {
   "cell_type": "code",
   "execution_count": null,
   "metadata": {},
   "outputs": [],
   "source": [
    "#Undefined Variables\n",
    "\n",
    "a = 10\n",
    "print(a)\n",
    "\n",
    "c = 20\n",
    "print(c)\n",
    "\n",
    "b = c\n",
    "print(b)\n",
    "\n",
    "\n",
    "\n",
    "d = a + b\n",
    "print(d)\n",
    "\n",
    "f = 50\n",
    "\n",
    "e = f + d\n",
    "print(e)"
   ]
  }
 ],
 "metadata": {
  "kernelspec": {
   "display_name": "Python 3",
   "language": "python",
   "name": "python3"
  },
  "language_info": {
   "codemirror_mode": {
    "name": "ipython",
    "version": 3
   },
   "file_extension": ".py",
   "mimetype": "text/x-python",
   "name": "python",
   "nbconvert_exporter": "python",
   "pygments_lexer": "ipython3",
   "version": "3.8.5"
  }
 },
 "nbformat": 4,
 "nbformat_minor": 4
}
