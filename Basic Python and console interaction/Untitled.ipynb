{
 "cells": [
  {
   "cell_type": "code",
   "execution_count": null,
   "metadata": {},
   "outputs": [],
   "source": [
    "#Print Vertical name\n",
    "\n",
    "print(\"H\")\n",
    "print(\"a\")\n",
    "print(\"a\")\n",
    "print(\"m\")\n",
    "print(\"e\")\n",
    "print(\"d\")"
   ]
  },
  {
   "cell_type": "code",
   "execution_count": null,
   "metadata": {},
   "outputs": [],
   "source": [
    "#Fix This Program!\n",
    "\n",
    "print(\"Hi there!\")\n",
    "print(\"My favorite color is magenta.\")"
   ]
  },
  {
   "cell_type": "code",
   "execution_count": null,
   "metadata": {},
   "outputs": [],
   "source": [
    "#Introduce Yourself\n",
    "\n",
    "print(\"My name is Haamed\")\n",
    "print(\"I like writing Python programs!\")"
   ]
  },
  {
   "cell_type": "code",
   "execution_count": null,
   "metadata": {},
   "outputs": [],
   "source": [
    "#Make Some Variables!\n",
    "\n",
    "string_variable = \"String\"\n",
    "int_variable = 23\n",
    "print(string_variable)\n",
    "print(int_variable)"
   ]
  },
  {
   "cell_type": "code",
   "execution_count": null,
   "metadata": {},
   "outputs": [],
   "source": [
    "#Undefined Variables\n",
    "\n",
    "a = 10\n",
    "print(a)\n",
    "\n",
    "c = 20\n",
    "print(c)\n",
    "\n",
    "b = c\n",
    "print(b)\n",
    "\n",
    "\n",
    "\n",
    "d = a + b\n",
    "print(d)\n",
    "\n",
    "f = 50\n",
    "\n",
    "e = f + d\n",
    "print(e)"
   ]
  },
  {
   "cell_type": "code",
   "execution_count": null,
   "metadata": {},
   "outputs": [],
   "source": [
    "#Hello <name>\n",
    "\n",
    "user_name = input(\"Enter your name: \")\n",
    "print(\"Hello\")\n",
    "print(user_name)"
   ]
  },
  {
   "cell_type": "code",
   "execution_count": null,
   "metadata": {},
   "outputs": [],
   "source": [
    "#Age\n",
    "\n",
    "age = int(input(\"Enter  your age: \"))\n",
    "print(\"you will need this many candles for your birthday cake: \", age + 1)"
   ]
  },
  {
   "cell_type": "code",
   "execution_count": null,
   "metadata": {},
   "outputs": [],
   "source": [
    "#Rectangle\n",
    "\n",
    "length = 10\n",
    "width = 5\n",
    "\n",
    "area = length * width\n",
    "perimeter = (length + width) * 2\n",
    "\n",
    "print(area)\n",
    "print(perimeter)"
   ]
  },
  {
   "cell_type": "code",
   "execution_count": null,
   "metadata": {},
   "outputs": [],
   "source": [
    "#Fix This Program\n",
    "\n",
    "instrument = \"kazoo\"\n",
    "age = 7\n",
    "\n",
    "print(\"I have played the \" + instrument + \" since I was \" + str(age) + \" years old.\")"
   ]
  },
  {
   "cell_type": "code",
   "execution_count": null,
   "metadata": {},
   "outputs": [],
   "source": [
    "#Introduce Yourself, Part 2\n",
    "\n",
    "name = \"Haamed\"\n",
    "age = 15\n",
    "print(\"Hi! My name is \" + name + \" and I am \" + str(age) + \" years old.\")"
   ]
  },
  {
   "cell_type": "code",
   "execution_count": null,
   "metadata": {},
   "outputs": [],
   "source": [
    "#Rectangle, Part 2\n",
    "\n",
    "length = 10\n",
    "width = 5\n",
    "\n",
    "Area = length * width\n",
    "Perimeter = (length + width) * 2\n",
    "\n",
    "print(\"Area: \" + str(Area))\n",
    "print(\"Perimeter: \" + str(Perimeter))"
   ]
  },
  {
   "cell_type": "code",
   "execution_count": null,
   "metadata": {},
   "outputs": [],
   "source": [
    "#Rectangle, Part 3\n",
    "\n",
    "length = int(input(\"Enter length: \"))\n",
    "width = int(input(\"Enter Width: \"))\n",
    "\n",
    "Area = length * width\n",
    "Perimeter = (length + width) * 2\n",
    "\n",
    "print(\"Area: \" + str(Area))\n",
    "print(\"Perimeter: \" + str(Perimeter))"
   ]
  },
  {
   "cell_type": "code",
   "execution_count": null,
   "metadata": {},
   "outputs": [],
   "source": [
    "#Recipe\n",
    "\n"
   ]
  }
 ],
 "metadata": {
  "kernelspec": {
   "display_name": "Python 3",
   "language": "python",
   "name": "python3"
  },
  "language_info": {
   "codemirror_mode": {
    "name": "ipython",
    "version": 3
   },
   "file_extension": ".py",
   "mimetype": "text/x-python",
   "name": "python",
   "nbconvert_exporter": "python",
   "pygments_lexer": "ipython3",
   "version": "3.8.5"
  }
 },
 "nbformat": 4,
 "nbformat_minor": 4
}
