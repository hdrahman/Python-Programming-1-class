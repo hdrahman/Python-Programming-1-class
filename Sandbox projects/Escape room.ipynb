{
 "cells": [
  {
   "cell_type": "code",
   "execution_count": null,
   "metadata": {},
   "outputs": [],
   "source": [
    "def room1():\n",
    "    print(\"The first 10 numbers in the sequence are '0, 1, 1, 2, 3, 5, 8, 13, 21, 34', what is the next number in the sequence?\" )\n",
    "    guess = int(input(\"Enter the next number in the sequence: \"))\n",
    "    while guess != 55:\n",
    "        print(\"that guess was incorrect.\")\n",
    "        print(\"If you want to try again enter: 1\")\n",
    "        print(\"If you want a hint, enter: 2\")\n",
    "        print(\"If you want to quit this room, enter: 3\")\n",
    "        option = int(input(\"Enter option: \"))\n",
    "        \n",
    "        guess = int(input()"
   ]
  }
 ],
 "metadata": {
  "kernelspec": {
   "display_name": "Python 3",
   "language": "python",
   "name": "python3"
  },
  "language_info": {
   "codemirror_mode": {
    "name": "ipython",
    "version": 3
   },
   "file_extension": ".py",
   "mimetype": "text/x-python",
   "name": "python",
   "nbconvert_exporter": "python",
   "pygments_lexer": "ipython3",
   "version": "3.8.5"
  }
 },
 "nbformat": 4,
 "nbformat_minor": 4
}
